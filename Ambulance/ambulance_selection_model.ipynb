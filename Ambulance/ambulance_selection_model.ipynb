{
 "cells": [
  {
   "cell_type": "markdown",
   "metadata": {},
   "source": [
    "Scoring of ambulances based on distance,ETA,severity of the disease detected, facilities like cardiac assistance,oxygen supply and ventialtion requirement and selecting the ambulance based on this score"
   ]
  },
  {
   "cell_type": "code",
   "execution_count": 3,
   "metadata": {},
   "outputs": [],
   "source": [
    "\n",
    "import pandas as pd\n",
    "import numpy as np\n",
    "import folium\n",
    "import geopy.distance\n",
    "import requests\n",
    "import time\n",
    "df=pd.read_csv('ambulance.csv')\n",
    "df=pd.DataFrame(df)\n"
   ]
  },
  {
   "cell_type": "code",
   "execution_count": null,
   "metadata": {},
   "outputs": [],
   "source": [
    "\n",
    "def batch_eta(locations,API_KEY,url):\n",
    "    \"\"\"\n",
    "    Batch process ETA using OpenRouteService API.\n",
    "    \"\"\"\n",
    "    payload = {\n",
    "        \"locations\": locations,  # List of coordinates\n",
    "        \"metrics\": [\"duration\"]  # Request duration as metric\n",
    "    }\n",
    "    headers = {\n",
    "        \"Authorization\": API_KEY,\n",
    "        \"Content-Type\": \"application/json\"\n",
    "    }\n",
    "\n",
    "    try:\n",
    "        response = requests.post(url, json=payload, headers=headers)\n",
    "        response.raise_for_status()\n",
    "        return response.json().get('durations', [])\n",
    "    except requests.exceptions.RequestException as e:\n",
    "        print(f\"Error: {e}\")\n",
    "        return None\n"
   ]
  },
  {
   "cell_type": "code",
   "execution_count": 5,
   "metadata": {},
   "outputs": [],
   "source": [
    "def gaussian(x, mu, sigma=1):\n",
    "  return np.exp(-((x - mu) ** 2) / (2 * sigma ** 2))"
   ]
  },
  {
   "cell_type": "code",
   "execution_count": 6,
   "metadata": {},
   "outputs": [],
   "source": [
    "def compute_score(row, severity):\n",
    "    score = 0\n",
    "\n",
    "    # Assign centers for each ambulance type\n",
    "    centers = {\n",
    "        'Non-Emergency': 2,\n",
    "        'BLS': 5.5,\n",
    "        'ALS': 8\n",
    "    }\n",
    "\n",
    "    # Assign the standard deviation (you can adjust this for broader or narrower curves)\n",
    "    sigma = 2  # This controls how wide or narrow the Gaussian curve is\n",
    "\n",
    "    # Compute the Gaussian score based on severity and ambulance type\n",
    "    if severity >= 1 and severity <= 4:\n",
    "        # Penalize non-emergency, and decrease the penalty for ALS and BLS based on Gaussian curve\n",
    "        score += gaussian(severity, centers['Non-Emergency'], sigma)  # Non-Emergency gets high score for severity 1-4\n",
    "        score -= gaussian(severity, centers['ALS'], sigma)  # ALS gets a penalty\n",
    "        score -= gaussian(severity, centers['BLS'], sigma)  # BLS gets some penalty\n",
    "\n",
    "    elif severity >= 4 and severity <= 7:\n",
    "        # BLS should get higher score here\n",
    "        score += gaussian(severity, centers['BLS'], sigma)\n",
    "        score -= gaussian(severity, centers['Non-Emergency'], sigma)\n",
    "        score -= gaussian(severity, centers['ALS'], sigma)\n",
    "\n",
    "    elif severity >= 7 and severity <= 10:\n",
    "        # ALS should get the highest score for severity 7-10\n",
    "        score += gaussian(severity, centers['ALS'], sigma)\n",
    "        score -= gaussian(severity, centers['Non-Emergency'], sigma)\n",
    "        score -= gaussian(severity, centers['BLS'], sigma)\n",
    "\n",
    "    return score\n"
   ]
  },
  {
   "cell_type": "code",
   "execution_count": null,
   "metadata": {},
   "outputs": [],
   "source": [
    "def score_generation(lat,lon,API_KEY,url):\n",
    "  df['ETA']=0\n",
    "  locations = df[[ 'Longitude','Latitude']].values.tolist()\n",
    "  origin = [lon,lat]\n",
    "  all_coordinates = [[loc, origin] for loc in locations]\n",
    "  etas = []\n",
    "  for batch in all_coordinates:\n",
    "   duration_matrix = batch_eta(batch,API_KEY,url)\n",
    "   if duration_matrix:\n",
    "      etas.append(duration_matrix[0][1]//60)  # Append duration for each origin-to-destination\n",
    "      time.sleep(2)\n",
    "  df['ETA']=etas\n",
    "  distance_km=[]\n",
    "\n",
    "  for row in df.itertuples(index=False):\n",
    "    distance_km.append(geopy.distance.distance([lat,lon],(row.Latitude,row.Longitude)).km)\n",
    "  df['Distance']=distance_km\n",
    "\n",
    "  df['Score'] = df.apply(lambda row: compute_score(row, severity), axis=1)\n",
    "  df['Score'] = df.apply(lambda row: bonus_scoring(row,severity,cardiac,oxygen,ventilation), axis=1)\n",
    "  return df[df['Score']==df['Score'].max()]\n"
   ]
  },
  {
   "cell_type": "code",
   "execution_count": null,
   "metadata": {},
   "outputs": [],
   "source": [
    "def bonus_scoring(row,severity,cardiac=0,oxygen=0,ventialation=0):\n",
    "  score=row['Score']\n",
    "  if (cardiac & row['Cardiac'] == 1):\n",
    "    score += 1\n",
    "  if (oxygen & row['Oxygen']) == 1:\n",
    "        score += 1\n",
    "  if (ventialation & row['Ventilator']) == 1:\n",
    "        score += 1\n",
    "\n",
    "  # Penalize based on distance (closer ambulances are better)\n",
    "  normalized_distance = 1 / (row['Distance'] + 1)  # Adding 1 to avoid division by zero\n",
    "  score += normalized_distance * 5  # Scale distance importance\n",
    "\n",
    "  score += (1/(row['ETA']))*5\n",
    "  return score"
   ]
  },
  {
   "cell_type": "code",
   "execution_count": null,
   "metadata": {},
   "outputs": [],
   "source": [
    "# OpenRouteService API key\n",
    "API_KEY = '5b3ce3597851110001cf6248eb38bd3e8a4748269c41294631f48c0e'\n",
    "\n",
    "url = \"https://api.openrouteservice.org/v2/matrix/driving-car\"\n",
    "\n",
    "lat=input(\"Enter the latitude of your location: \")\n",
    "lon=input(\"Enter the longitude of your location:\")\n",
    "severity=input(\"Enter the severity of the accident: \")\n",
    "oxygen=input(\"oxyen\")\n",
    "ventilation=input(\"ventilation\")\n",
    "cardiac=input(\"cardiac\")\n",
    "score_generation(lat,lon,API_KEY,url)\n"
   ]
  },
  {
   "cell_type": "markdown",
   "metadata": {},
   "source": [
    "Vizualization of result"
   ]
  },
  {
   "cell_type": "code",
   "execution_count": null,
   "metadata": {},
   "outputs": [],
   "source": [
    "import folium\n",
    "m=folium.Map(location=[lat,lon],zoom_start=10)\n",
    "for i,row in df.iterrows():\n",
    "  lats=df.at[i,'Latitude']\n",
    "  lons=df.at[i,'Longitude']\n",
    "  amb=df.at[i,'Ambulance_Numberplate']\n",
    "\n",
    "  folium.Marker(location=[lats,lons],popup=amb,icon=folium.Icon(color=\"green\")).add_to(m)\n",
    "folium.Marker(location=[lat,lon],popup=\"My Location\",icon=folium.Icon(color=\"red\")).add_to(m)\n",
    "m"
   ]
  },
  {
   "cell_type": "code",
   "execution_count": null,
   "metadata": {},
   "outputs": [],
   "source": [
    "df.to_csv('ambulance_result.csv')"
   ]
  }
 ],
 "metadata": {
  "kernelspec": {
   "display_name": "Python 3",
   "language": "python",
   "name": "python3"
  },
  "language_info": {
   "codemirror_mode": {
    "name": "ipython",
    "version": 3
   },
   "file_extension": ".py",
   "mimetype": "text/x-python",
   "name": "python",
   "nbconvert_exporter": "python",
   "pygments_lexer": "ipython3",
   "version": "3.12.5"
  }
 },
 "nbformat": 4,
 "nbformat_minor": 2
}
