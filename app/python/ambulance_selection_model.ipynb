{
 "cells": [
  {
   "cell_type": "markdown",
   "metadata": {},
   "source": [
    "Scoring of ambulances based on distance,ETA,severity of the disease detected, facilities like cardiac assistance,oxygen supply and ventialtion requirement and selecting the ambulance based on this score"
   ]
  },
  {
   "cell_type": "code",
   "execution_count": null,
   "metadata": {},
   "outputs": [],
   "source": [
    "\n"
   ]
  },
  {
   "cell_type": "code",
   "execution_count": null,
   "metadata": {},
   "outputs": [],
   "source": []
  },
  {
   "cell_type": "code",
   "execution_count": null,
   "metadata": {},
   "outputs": [],
   "source": []
  },
  {
   "cell_type": "code",
   "execution_count": null,
   "metadata": {},
   "outputs": [],
   "source": []
  },
  {
   "cell_type": "code",
   "execution_count": null,
   "metadata": {},
   "outputs": [],
   "source": []
  },
  {
   "cell_type": "code",
   "execution_count": null,
   "metadata": {},
   "outputs": [],
   "source": []
  },
  {
   "cell_type": "code",
   "execution_count": null,
   "metadata": {},
   "outputs": [],
   "source": [
    "# OpenRouteService API key\n",
    "\n",
    "lat=input(\"Enter the latitude of your location: \")\n",
    "lon=input(\"Enter the longitude of your location:\")\n",
    "severity=input(\"Enter the severity of the accident: \")\n",
    "oxygen=input(\"oxyen\")\n",
    "ventilation=input(\"ventilation\")\n",
    "cardiac=input(\"cardiac\")\n",
    "score_generation(lat,lon,API_KEY,url)\n"
   ]
  },
  {
   "cell_type": "markdown",
   "metadata": {},
   "source": [
    "Vizualization of result"
   ]
  },
  {
   "cell_type": "code",
   "execution_count": null,
   "metadata": {},
   "outputs": [],
   "source": [
    "import folium\n",
    "m=folium.Map(location=[lat,lon],zoom_start=10)\n",
    "for i,row in df.iterrows():\n",
    "  lats=df.at[i,'Latitude']\n",
    "  lons=df.at[i,'Longitude']\n",
    "  amb=df.at[i,'Ambulance_Numberplate']\n",
    "\n",
    "  folium.Marker(location=[lats,lons],popup=amb,icon=folium.Icon(color=\"green\")).add_to(m)\n",
    "folium.Marker(location=[lat,lon],popup=\"My Location\",icon=folium.Icon(color=\"red\")).add_to(m)\n",
    "m"
   ]
  },
  {
   "cell_type": "code",
   "execution_count": null,
   "metadata": {},
   "outputs": [],
   "source": [
    "df.to_csv('ambulance_result.csv')"
   ]
  },
  {
   "cell_type": "code",
   "execution_count": 1,
   "metadata": {},
   "outputs": [],
   "source": [
    "def ambulance(severity,oxygen,ventilation,cardiac): \n",
    "    import pandas as pd\n",
    "    import numpy as np\n",
    "    import folium\n",
    "    import geopy.distance\n",
    "    import requests\n",
    "    import time\n",
    "    df=pd.read_csv('ambulance.csv')\n",
    "    df=pd.DataFrame(df)"
   ]
  }
 ],
 "metadata": {
  "kernelspec": {
   "display_name": "Python 3",
   "language": "python",
   "name": "python3"
  },
  "language_info": {
   "codemirror_mode": {
    "name": "ipython",
    "version": 3
   },
   "file_extension": ".py",
   "mimetype": "text/x-python",
   "name": "python",
   "nbconvert_exporter": "python",
   "pygments_lexer": "ipython3",
   "version": "3.12.5"
  }
 },
 "nbformat": 4,
 "nbformat_minor": 2
}
